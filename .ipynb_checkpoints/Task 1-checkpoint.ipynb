{
 "cells": [
  {
   "cell_type": "code",
   "execution_count": 52,
   "metadata": {},
   "outputs": [],
   "source": [
    "import math\n",
    "from keras.models import load_model\n",
    "from keras.preprocessing.image import ImageDataGenerator\n",
    "import matplotlib.pyplot as plt\n",
    "import sys\n",
    "if '/opt/ros/kinetic/lib/python2.7/dist-packages' in sys.path: sys.path.remove('/opt/ros/kinetic/lib/python2.7/dist-packages')\n",
    "import cv2\n",
    "from gradcam_utils import *\n",
    "from sklearn.metrics import roc_curve\n",
    "from sklearn.metrics import roc_auc_score, confusion_matrix\n",
    "from matplotlib import pyplot\n",
    "import seaborn as sn\n",
    "import pandas as pd\n",
    "\n"
   ]
  },
  {
   "cell_type": "code",
   "execution_count": 57,
   "metadata": {},
   "outputs": [
    {
     "name": "stdout",
     "output_type": "stream",
     "text": [
      "Found 515 images belonging to 5 classes.\n",
      "{'carpet': 1}\n"
     ]
    }
   ],
   "source": [
    "DATASET_ROOT = 'data/test'\n",
    "GT_ROOT = 'data/ground_truth'\n",
    "CLASSES = ['carpet', 'grid', 'leather', 'tile', 'wood']\n",
    "\n",
    "test_datagen = ImageDataGenerator(rescale=1./255)\n",
    "test_generator = test_datagen.flow_from_directory(DATASET_ROOT,\n",
    "                                                    class_mode='categorical',\n",
    "                                                    interpolation='bilinear',\n",
    "                                                    target_size=(224, 224),\n",
    "                                                    batch_size=1,\n",
    "                                                    shuffle=False,\n",
    "                                                    classes=CLASSES)\n",
    "unique, counts = np.unique(test_generator.labels, return_counts=True)\n",
    "print(dict(zip(CLASSES, counts)))"
   ]
  },
  {
   "cell_type": "code",
   "execution_count": 6,
   "metadata": {
    "scrolled": false
   },
   "outputs": [
    {
     "name": "stdout",
     "output_type": "stream",
     "text": [
      "WARNING:tensorflow:From /usr/local/lib/python3.5/dist-packages/keras/backend/tensorflow_backend.py:4070: The name tf.nn.max_pool is deprecated. Please use tf.nn.max_pool2d instead.\n",
      "\n",
      "WARNING:tensorflow:From /usr/local/lib/python3.5/dist-packages/keras/backend/tensorflow_backend.py:422: The name tf.global_variables is deprecated. Please use tf.compat.v1.global_variables instead.\n",
      "\n"
     ]
    }
   ],
   "source": [
    "model = load_model('save/texturenet.h5')\n",
    "#for l in model.layers:\n",
    "    #print(l.name)"
   ]
  },
  {
   "cell_type": "markdown",
   "metadata": {},
   "source": [
    "**ROC Curves**"
   ]
  },
  {
   "cell_type": "markdown",
   "metadata": {},
   "source": [
    "**Getting prediction probabilities**"
   ]
  },
  {
   "cell_type": "code",
   "execution_count": 7,
   "metadata": {
    "scrolled": true
   },
   "outputs": [
    {
     "name": "stdout",
     "output_type": "stream",
     "text": [
      "[[0. 0. 0. 0. 1.]\n",
      " [1. 0. 0. 0. 0.]\n",
      " [1. 0. 0. 0. 0.]\n",
      " ...\n",
      " [0. 0. 0. 0. 1.]\n",
      " [0. 0. 0. 0. 1.]\n",
      " [1. 0. 0. 0. 0.]]\n"
     ]
    }
   ],
   "source": [
    "probs = model.predict(test_generator)\n",
    "#print(probs)\n",
    "probs.shape\n",
    "is_pass_threshold = np.zeros((515, len(CLASSES)))\n",
    "is_pass_threshold[np.arange(515), np.argmax(probs, axis=1)] = 1\n",
    "print(is_pass_threshold)\n"
   ]
  },
  {
   "cell_type": "markdown",
   "metadata": {},
   "source": [
    "**Getting Individual binary outputs for each class from the test dataset**"
   ]
  },
  {
   "cell_type": "code",
   "execution_count": 8,
   "metadata": {},
   "outputs": [],
   "source": [
    "carpet_test = np.zeros([515,1])\n",
    "grid_test = np.zeros([515,1])\n",
    "leather_test = np.zeros([515,1])\n",
    "tile_test = np.zeros([515,1])\n",
    "wood_test = np.zeros([515,1])"
   ]
  },
  {
   "cell_type": "code",
   "execution_count": 9,
   "metadata": {},
   "outputs": [],
   "source": [
    "for i in range(len(test_generator.filenames)):\n",
    "    test_generator.filenames\n",
    "    for j in range(len(test_generator.filenames[i])):\n",
    "        if test_generator.filenames[i][j]== \"/\":\n",
    "            break\n",
    "    correct_class = test_generator.filenames[i][0:j]\n",
    "    if correct_class == \"carpet\":\n",
    "        carpet_test[i] = 1\n",
    "    if correct_class == \"grid\":\n",
    "        grid_test[i] = 1\n",
    "    if correct_class == \"leather\":\n",
    "        leather_test[i] = 1\n",
    "    if correct_class == \"tile\":\n",
    "        tile_test[i] = 1\n",
    "    if correct_class == \"wood\":\n",
    "        wood_test[i] = 1"
   ]
  },
  {
   "cell_type": "markdown",
   "metadata": {},
   "source": [
    "**Getting individual class probabilities**"
   ]
  },
  {
   "cell_type": "code",
   "execution_count": 10,
   "metadata": {},
   "outputs": [],
   "source": [
    "carpet_prob = probs[:,0]\n",
    "grid_prob = probs[:,1]\n",
    "leather_prob = probs[:,2]\n",
    "tile_prob = probs[:,3]\n",
    "wood_prob = probs[:,4]"
   ]
  },
  {
   "cell_type": "markdown",
   "metadata": {},
   "source": [
    "**Plotting ROC Curves**"
   ]
  },
  {
   "cell_type": "code",
   "execution_count": 11,
   "metadata": {},
   "outputs": [
    {
     "name": "stdout",
     "output_type": "stream",
     "text": [
      "AUC for Carpet class: 0.995\n"
     ]
    },
    {
     "data": {
      "text/plain": [
       "<matplotlib.text.Text at 0x7f7cb83ad240>"
      ]
     },
     "execution_count": 11,
     "metadata": {},
     "output_type": "execute_result"
    },
    {
     "data": {
      "image/png": "[encoded data removed]",
      "text/plain": [
       "<matplotlib.figure.Figure at 0x7f7cbaa57240>"
      ]
     },
     "metadata": {
      "needs_background": "light"
     },
     "output_type": "display_data"
    }
   ],
   "source": [
    "auc = roc_auc_score(carpet_test, carpet_prob)\n",
    "print('AUC for Carpet class: %.3f' % auc)\n",
    "fpr, tpr, _ = roc_curve(carpet_test,carpet_prob)\n",
    "pyplot.plot(fpr, tpr, linestyle='--')\n",
    "pyplot.title(\"carpet\")\n",
    "pyplot.xlabel('False Positive Rate')\n",
    "pyplot.ylabel('True Positive Rate')"
   ]
  },
  {
   "cell_type": "code",
   "execution_count": 105,
   "metadata": {
    "scrolled": true
   },
   "outputs": [
    {
     "name": "stdout",
     "output_type": "stream",
     "text": [
      "AUC for Carpet class: 0.994\n"
     ]
    },
    {
     "data": {
      "text/plain": [
       "<matplotlib.text.Text at 0x7fa088128828>"
      ]
     },
     "execution_count": 105,
     "metadata": {},
     "output_type": "execute_result"
    },
    {
     "data": {
      "image/png": "[encoded data removed]",
      "text/plain": [
       "<matplotlib.figure.Figure at 0x7fa08811aa20>"
      ]
     },
     "metadata": {
      "needs_background": "light"
     },
     "output_type": "display_data"
    }
   ],
   "source": [
    "auc = roc_auc_score(grid_test, grid_prob)\n",
    "print('AUC for Carpet class: %.3f' % auc)\n",
    "fpr, tpr, _ = roc_curve(grid_test,grid_prob)\n",
    "pyplot.plot(fpr, tpr, linestyle='--')\n",
    "pyplot.title(\"grid\")\n",
    "pyplot.xlabel('False Positive Rate')\n",
    "pyplot.ylabel('True Positive Rate')"
   ]
  },
  {
   "cell_type": "code",
   "execution_count": 106,
   "metadata": {
    "scrolled": true
   },
   "outputs": [
    {
     "name": "stdout",
     "output_type": "stream",
     "text": [
      "AUC for Carpet class: 1.000\n"
     ]
    },
    {
     "data": {
      "text/plain": [
       "<matplotlib.text.Text at 0x7fa08815ed30>"
      ]
     },
     "execution_count": 106,
     "metadata": {},
     "output_type": "execute_result"
    },
    {
     "data": {
      "image/png": "[encoded data removed]",
      "text/plain": [
       "<matplotlib.figure.Figure at 0x7fa0880db160>"
      ]
     },
     "metadata": {
      "needs_background": "light"
     },
     "output_type": "display_data"
    }
   ],
   "source": [
    "auc = roc_auc_score(leather_test, leather_prob)\n",
    "print('AUC for Carpet class: %.3f' % auc)\n",
    "fpr, tpr, _ = roc_curve(leather_test,leather_prob)\n",
    "pyplot.plot(fpr, tpr, linestyle='--')\n",
    "pyplot.title(\"leather\")\n",
    "pyplot.xlabel('False Positive Rate')\n",
    "pyplot.ylabel('True Positive Rate')"
   ]
  },
  {
   "cell_type": "code",
   "execution_count": 108,
   "metadata": {
    "scrolled": true
   },
   "outputs": [
    {
     "name": "stdout",
     "output_type": "stream",
     "text": [
      "AUC for Carpet class: 0.996\n"
     ]
    },
    {
     "data": {
      "text/plain": [
       "<matplotlib.text.Text at 0x7fa088098860>"
      ]
     },
     "execution_count": 108,
     "metadata": {},
     "output_type": "execute_result"
    },
    {
     "data": {
      "image/png": "[encoded data removed]",
      "text/plain": [
       "<matplotlib.figure.Figure at 0x7fa0880b8ac8>"
      ]
     },
     "metadata": {
      "needs_background": "light"
     },
     "output_type": "display_data"
    }
   ],
   "source": [
    "auc = roc_auc_score(tile_test, tile_prob)\n",
    "print('AUC for Carpet class: %.3f' % auc)\n",
    "fpr, tpr, _ = roc_curve(tile_test,tile_prob)\n",
    "pyplot.plot(fpr, tpr, linestyle='--')\n",
    "pyplot.title(\"tile\")\n",
    "pyplot.xlabel('False Positive Rate')\n",
    "pyplot.ylabel('True Positive Rate')"
   ]
  },
  {
   "cell_type": "code",
   "execution_count": 109,
   "metadata": {},
   "outputs": [
    {
     "name": "stdout",
     "output_type": "stream",
     "text": [
      "AUC for Carpet class: 0.993\n"
     ]
    },
    {
     "data": {
      "text/plain": [
       "<matplotlib.text.Text at 0x7fa082ffadd8>"
      ]
     },
     "execution_count": 109,
     "metadata": {},
     "output_type": "execute_result"
    },
    {
     "data": {
      "image/png": "[encoded data removed]",
      "text/plain": [
       "<matplotlib.figure.Figure at 0x7fa082fc7fd0>"
      ]
     },
     "metadata": {
      "needs_background": "light"
     },
     "output_type": "display_data"
    }
   ],
   "source": [
    "auc = roc_auc_score(wood_test, wood_prob)\n",
    "print('AUC for Carpet class: %.3f' % auc)\n",
    "fpr, tpr, _ = roc_curve(wood_test,wood_prob)\n",
    "pyplot.plot(fpr, tpr, linestyle='--')\n",
    "pyplot.title(\"wood\")\n",
    "pyplot.xlabel('False Positive Rate')\n",
    "pyplot.ylabel('True Positive Rate')"
   ]
  },
  {
   "cell_type": "markdown",
   "metadata": {},
   "source": [
    "**Compute Overall Accuracy in the Test set**"
   ]
  },
  {
   "cell_type": "code",
   "execution_count": 17,
   "metadata": {
    "scrolled": true
   },
   "outputs": [
    {
     "name": "stdout",
     "output_type": "stream",
     "text": [
      "515/515 [==============================] - 27s 52ms/step\n"
     ]
    }
   ],
   "source": [
    "test_loss, test_accuracy = model.evaluate(test_generator)\n"
   ]
  },
  {
   "cell_type": "code",
   "execution_count": 18,
   "metadata": {
    "scrolled": true
   },
   "outputs": [
    {
     "name": "stdout",
     "output_type": "stream",
     "text": [
      "93.00971031188965\n"
     ]
    }
   ],
   "source": [
    "print (test_accuracy*100)"
   ]
  },
  {
   "cell_type": "code",
   "execution_count": 39,
   "metadata": {},
   "outputs": [],
   "source": [
    "predictions = model.predict_generator(test_generator)\n"
   ]
  },
  {
   "cell_type": "code",
   "execution_count": 47,
   "metadata": {},
   "outputs": [],
   "source": [
    "predictions = np.argmax(predictions, axis=1)"
   ]
  },
  {
   "cell_type": "code",
   "execution_count": 48,
   "metadata": {},
   "outputs": [
    {
     "name": "stdout",
     "output_type": "stream",
     "text": [
      "[[116   0   0   0   1]\n",
      " [  0  75   0   3   0]\n",
      " [  0   0 124   0   0]\n",
      " [  0  29   0  88   0]\n",
      " [  3   0   0   0  76]]\n"
     ]
    }
   ],
   "source": [
    "cm = confusion_matrix(test_generator.classes,predictions)\n",
    "print(cm)"
   ]
  },
  {
   "cell_type": "code",
   "execution_count": 60,
   "metadata": {},
   "outputs": [
    {
     "data": {
      "text/plain": [
       "<matplotlib.axes._subplots.AxesSubplot at 0x7f7c1d0484a8>"
      ]
     },
     "execution_count": 60,
     "metadata": {},
     "output_type": "execute_result"
    },
    {
     "data": {
      "image/png": "[encoded data removed]",
      "text/plain": [
       "<matplotlib.figure.Figure at 0x7f7c1cf13518>"
      ]
     },
     "metadata": {},
     "output_type": "display_data"
    }
   ],
   "source": [
    "plt_cm = pd.DataFrame(cm, index=CLASSES, columns=CLASSES)\n",
    "plt_cm.index.name = \"Actual\"\n",
    "plt_cm.index.columns = \"Predicted\"\n",
    "plt.figure(figsize = (7,7))\n",
    "sn.set(font_scale=0.8)\n",
    "sn.heatmap(plt_cm, cmap=\"Blues\", annot=True,annot_kws={\"size\": 10},fmt='d')"
   ]
  },
  {
   "cell_type": "code",
   "execution_count": null,
   "metadata": {},
   "outputs": [],
   "source": []
  }
 ],
 "metadata": {
  "kernelspec": {
   "display_name": "Python 3",
   "language": "python",
   "name": "python3"
  },
  "language_info": {
   "codemirror_mode": {
    "name": "ipython",
    "version": 3
   },
   "file_extension": ".py",
   "mimetype": "text/x-python",
   "name": "python",
   "nbconvert_exporter": "python",
   "pygments_lexer": "ipython3",
   "version": "3.5.2"
  }
 },
 "nbformat": 4,
 "nbformat_minor": 2
}
