{
 "cells": [
  {
   "cell_type": "code",
   "execution_count": 43,
   "metadata": {
    "scrolled": false
   },
   "outputs": [],
   "source": [
    "import math\n",
    "import numpy as np\n",
    "from keras.models import load_model\n",
    "from keras import models\n",
    "import keras.backend as K\n",
    "from keras.layers import Conv2D\n",
    "from keras.preprocessing.image import ImageDataGenerator\n",
    "import matplotlib.pyplot as plt\n",
    "import matplotlib\n",
    "import sys\n",
    "if '/opt/ros/kinetic/lib/python2.7/dist-packages' in sys.path: sys.path.remove('/opt/ros/kinetic/lib/python2.7/dist-packages')\n",
    "import cv2\n",
    "from gradcam_utils import *\n",
    "from sklearn.manifold import TSNE\n",
    "from sklearn.decomposition import PCA\n",
    "from sklearn.ensemble import IsolationForest\n",
    "from sklearn.svm import OneClassSVM\n",
    "from sklearn.decomposition import KernelPCA\n",
    "from sklearn.neighbors import LocalOutlierFactor\n",
    "from sklearn.metrics import roc_curve\n",
    "from sklearn.metrics import roc_auc_score"
   ]
  },
  {
   "cell_type": "markdown",
   "metadata": {},
   "source": [
    "## Obtain image features for each class in both Training and Test data"
   ]
  },
  {
   "cell_type": "markdown",
   "metadata": {},
   "source": [
    "## Load Pretrained Model"
   ]
  },
  {
   "cell_type": "code",
   "execution_count": 44,
   "metadata": {
    "scrolled": false
   },
   "outputs": [
    {
     "name": "stdout",
     "output_type": "stream",
     "text": [
      "conv2d_1\n",
      "conv2d_2\n",
      "max_pooling2d_1\n",
      "conv2d_3\n",
      "conv2d_4\n",
      "max_pooling2d_2\n",
      "conv2d_5\n",
      "conv2d_6\n",
      "conv2d_7\n",
      "global_average_pooling2d_1\n",
      "dense_1\n"
     ]
    }
   ],
   "source": [
    "model = load_model('save/texturenet.h5')\n",
    "for l in model.layers:\n",
    "    print(l.name)"
   ]
  },
  {
   "cell_type": "markdown",
   "metadata": {},
   "source": [
    "## Load full training image batch"
   ]
  },
  {
   "cell_type": "code",
   "execution_count": 45,
   "metadata": {},
   "outputs": [
    {
     "name": "stdout",
     "output_type": "stream",
     "text": [
      "Found 1266 images belonging to 5 classes.\n",
      "{'wood': 247, 'carpet': 280, 'leather': 245, 'grid': 264, 'tile': 230}\n"
     ]
    }
   ],
   "source": [
    "DATASET_ROOT = 'data/train'\n",
    "GT_ROOT = 'data/ground_truth'\n",
    "CLASSES = ['carpet', 'grid', 'leather', 'tile', 'wood']\n",
    "\n",
    "train_datagen = ImageDataGenerator(rescale=1./255)\n",
    "train_generator = train_datagen.flow_from_directory(DATASET_ROOT,\n",
    "                                                    class_mode='categorical',\n",
    "                                                    interpolation='bilinear',\n",
    "                                                    target_size=(224, 224),\n",
    "                                                    batch_size=1266,\n",
    "                                                    shuffle=False,\n",
    "                                                    classes=CLASSES)\n",
    "unique, counts = np.unique(train_generator.labels, return_counts=True)\n",
    "print(dict(zip(CLASSES, counts)))"
   ]
  },
  {
   "cell_type": "code",
   "execution_count": 46,
   "metadata": {
    "scrolled": true
   },
   "outputs": [
    {
     "name": "stdout",
     "output_type": "stream",
     "text": [
      "(1266, 224, 224, 3)\n"
     ]
    }
   ],
   "source": [
    "train_input,y = train_generator.next()\n",
    "print(train_input.shape)\n",
    "cur_batch_sz = 1266"
   ]
  },
  {
   "cell_type": "markdown",
   "metadata": {},
   "source": [
    "## Get the set of train images for each class by getting a binary index mask "
   ]
  },
  {
   "cell_type": "code",
   "execution_count": 47,
   "metadata": {},
   "outputs": [],
   "source": [
    "train_carpet_idx = np.full(len(train_generator.filenames),False)\n",
    "train_grid_idx = np.full(len(train_generator.filenames),False)\n",
    "train_leather_idx = np.full(len(train_generator.filenames),False)\n",
    "train_tile_idx = np.full(len(train_generator.filenames),False)\n",
    "train_wood_idx = np.full(len(train_generator.filenames),False)       \n",
    "for i in range(len(train_generator.filenames)):\n",
    "    for j in range(len(train_generator.filenames[i])):\n",
    "        if train_generator.filenames[i][j]== \"/\":\n",
    "            break\n",
    "    correct_class = train_generator.filenames[i][0:j]\n",
    "    if correct_class == \"carpet\":\n",
    "        train_carpet_idx[i] = True\n",
    "    if correct_class == \"grid\":\n",
    "        train_grid_idx[i] = True\n",
    "    if correct_class == \"leather\":\n",
    "        train_leather_idx[i] = True\n",
    "    if correct_class == \"tile\":\n",
    "        train_tile_idx[i] = True\n",
    "    if correct_class == \"wood\":\n",
    "        train_wood_idx[i] = True"
   ]
  },
  {
   "cell_type": "markdown",
   "metadata": {},
   "source": [
    "**sanity check**"
   ]
  },
  {
   "cell_type": "code",
   "execution_count": 48,
   "metadata": {},
   "outputs": [
    {
     "name": "stdout",
     "output_type": "stream",
     "text": [
      "280\n",
      "264\n",
      "245\n",
      "230\n",
      "247\n"
     ]
    }
   ],
   "source": [
    "print(len(train_input[train_carpet_idx]))\n",
    "print(len(train_input[train_grid_idx]))\n",
    "print(len(train_input[train_leather_idx]))\n",
    "print(len(train_input[train_tile_idx]))\n",
    "print(len(train_input[train_wood_idx]))"
   ]
  },
  {
   "cell_type": "markdown",
   "metadata": {},
   "source": [
    "## Load full testing image batch"
   ]
  },
  {
   "cell_type": "code",
   "execution_count": 49,
   "metadata": {},
   "outputs": [
    {
     "name": "stdout",
     "output_type": "stream",
     "text": [
      "Found 515 images belonging to 5 classes.\n",
      "{'wood': 79, 'carpet': 117, 'leather': 124, 'grid': 78, 'tile': 117}\n"
     ]
    }
   ],
   "source": [
    "DATASET_ROOT = 'data/test'\n",
    "GT_ROOT = 'data/ground_truth'\n",
    "CLASSES = ['carpet', 'grid', 'leather', 'tile', 'wood']\n",
    "\n",
    "test_datagen = ImageDataGenerator(rescale=1./255)\n",
    "test_generator = test_datagen.flow_from_directory(DATASET_ROOT,\n",
    "                                                    class_mode='categorical',\n",
    "                                                    interpolation='bilinear',\n",
    "                                                    target_size=(224, 224),\n",
    "                                                    batch_size=515,\n",
    "                                                    shuffle=False,\n",
    "                                                    classes=CLASSES)\n",
    "unique, counts = np.unique(test_generator.labels, return_counts=True)\n",
    "print(dict(zip(CLASSES, counts)))"
   ]
  },
  {
   "cell_type": "code",
   "execution_count": 50,
   "metadata": {},
   "outputs": [
    {
     "name": "stdout",
     "output_type": "stream",
     "text": [
      "(515, 224, 224, 3)\n"
     ]
    }
   ],
   "source": [
    "test_input,y = test_generator.next()\n",
    "print(test_input.shape)\n",
    "cur_batch_sz = 515"
   ]
  },
  {
   "cell_type": "markdown",
   "metadata": {},
   "source": [
    "## Get the set of test images for each class by getting a binary index mask"
   ]
  },
  {
   "cell_type": "code",
   "execution_count": 51,
   "metadata": {},
   "outputs": [],
   "source": [
    "test_carpet_idx = np.full(len(test_generator.filenames),False)\n",
    "test_grid_idx = np.full(len(test_generator.filenames),False)\n",
    "test_leather_idx = np.full(len(test_generator.filenames),False)\n",
    "test_tile_idx = np.full(len(test_generator.filenames),False)\n",
    "test_wood_idx = np.full(len(test_generator.filenames),False)       \n",
    "for i in range(len(test_generator.filenames)):\n",
    "    for j in range(len(test_generator.filenames[i])):\n",
    "        if test_generator.filenames[i][j]== \"/\":\n",
    "            break\n",
    "    correct_class = test_generator.filenames[i][0:j]\n",
    "    if correct_class == \"carpet\":\n",
    "        test_carpet_idx[i] = True\n",
    "    if correct_class == \"grid\":\n",
    "        test_grid_idx[i] = True\n",
    "    if correct_class == \"leather\":\n",
    "        test_leather_idx[i] = True\n",
    "    if correct_class == \"tile\":\n",
    "        test_tile_idx[i] = True\n",
    "    if correct_class == \"wood\":\n",
    "        test_wood_idx[i] = True"
   ]
  },
  {
   "cell_type": "markdown",
   "metadata": {},
   "source": [
    "**Sanity check**"
   ]
  },
  {
   "cell_type": "code",
   "execution_count": 52,
   "metadata": {},
   "outputs": [
    {
     "name": "stdout",
     "output_type": "stream",
     "text": [
      "117\n",
      "78\n",
      "124\n",
      "117\n",
      "79\n"
     ]
    }
   ],
   "source": [
    "print(len(test_input[test_carpet_idx]))\n",
    "print(len(test_input[test_grid_idx]))\n",
    "print(len(test_input[test_leather_idx]))\n",
    "print(len(test_input[test_tile_idx]))\n",
    "print(len(test_input[test_wood_idx]))"
   ]
  },
  {
   "cell_type": "markdown",
   "metadata": {},
   "source": [
    "## Get learned features for each class in training data and test data"
   ]
  },
  {
   "cell_type": "code",
   "execution_count": 11,
   "metadata": {},
   "outputs": [],
   "source": [
    "defect_result = np.zeros(len(test_input))\n",
    "defect_pred_score = np.zeros(len(test_input))\n"
   ]
  },
  {
   "cell_type": "markdown",
   "metadata": {},
   "source": [
    "## ---------------------Run from this part for each class by editing the class name in train_idx and test_idx -----------------##"
   ]
  },
  {
   "cell_type": "code",
   "execution_count": 51,
   "metadata": {},
   "outputs": [],
   "source": [
    "train_idx = train_wood_idx\n",
    "test_idx = test_wood_idx"
   ]
  },
  {
   "cell_type": "code",
   "execution_count": 52,
   "metadata": {},
   "outputs": [
    {
     "name": "stdout",
     "output_type": "stream",
     "text": [
      "264\n",
      "78\n"
     ]
    }
   ],
   "source": [
    "print(len(train_input[train_idx]))\n",
    "print(len(test_input[test_idx]))"
   ]
  },
  {
   "cell_type": "markdown",
   "metadata": {},
   "source": [
    "## Getting learned representations at topmost layer for input images of a class in both the test and training data ##"
   ]
  },
  {
   "cell_type": "code",
   "execution_count": 53,
   "metadata": {
    "scrolled": true
   },
   "outputs": [],
   "source": [
    "layer_activation_model = models.Model(inputs=model.input, outputs=model.layers[7].output)##Choosing topmost layer here\n",
    "layer_output = layer_activation_model.predict(np.append(train_input[train_idx],test_input[test_idx],axis=0))"
   ]
  },
  {
   "cell_type": "code",
   "execution_count": 54,
   "metadata": {},
   "outputs": [
    {
     "name": "stdout",
     "output_type": "stream",
     "text": [
      "(342, 802816)\n"
     ]
    }
   ],
   "source": [
    "layer_out_vec = np.reshape(layer_output,(len(layer_output),56*56*256))\n",
    "print(layer_out_vec.shape)"
   ]
  },
  {
   "cell_type": "markdown",
   "metadata": {},
   "source": [
    "## Training image features are used for fitting the novelty detection estimator and anomalies are predicted in test images"
   ]
  },
  {
   "cell_type": "code",
   "execution_count": 55,
   "metadata": {},
   "outputs": [
    {
     "name": "stdout",
     "output_type": "stream",
     "text": [
      "[0 1 1 0 1 1 0 1 1 1 1 0 0 1 0 1 0 0 0 0 1 0 1 0 0 1 1 0 0 0 0 0 0 0 1 1 0\n",
      " 1 1 0 0 0 0 0 1 0 0 1 0 0 1 1 0 0 0 0 1 1 1 1 1 0 0 0 1 1 1 1 0 0 0 1 1 1\n",
      " 0 1 1 1]\n"
     ]
    }
   ],
   "source": [
    "clf = LocalOutlierFactor(n_neighbors=30, novelty=True, contamination=0.5)\n",
    "clf.fit(layer_out_vec[0:len(train_input[train_idx])])\n",
    "result = clf.predict(layer_out_vec[len(train_input[train_idx]):(len(test_input[test_idx])+len(train_input[train_idx]))])\n",
    "for i in range(len(result)):\n",
    "    if result[i] == 1:\n",
    "        result[i] = 0\n",
    "    if result[i] == -1:\n",
    "        result[i] = 1\n",
    "print(result)"
   ]
  },
  {
   "cell_type": "markdown",
   "metadata": {},
   "source": [
    "**get a binary index masks for defective images**"
   ]
  },
  {
   "cell_type": "code",
   "execution_count": 56,
   "metadata": {},
   "outputs": [
    {
     "name": "stdout",
     "output_type": "stream",
     "text": [
      "[False  True  True False  True  True False  True  True  True  True False\n",
      " False  True False  True False False False False  True False  True False\n",
      " False  True  True False False False False False False False  True  True\n",
      " False  True  True False False False False False  True False False  True\n",
      " False False  True  True False False False False  True  True  True  True\n",
      "  True False False False  True  True  True  True False False False  True\n",
      "  True  True False  True  True  True]\n"
     ]
    }
   ],
   "source": [
    "defect_idx = np.full(len(result),False)\n",
    "for i in range(len(result)):\n",
    "    if result[i] == 1:\n",
    "        defect_idx[i] = True\n",
    "print(defect_idx)"
   ]
  },
  {
   "cell_type": "code",
   "execution_count": 38,
   "metadata": {},
   "outputs": [],
   "source": [
    "pred_score = clf.decision_function(layer_out_vec[len(train_input[train_idx]):(len(test_input[test_idx])+len(train_input[train_idx]))])"
   ]
  },
  {
   "cell_type": "markdown",
   "metadata": {},
   "source": [
    "**Storing individual class' defect result and prediction scores to overall result**"
   ]
  },
  {
   "cell_type": "code",
   "execution_count": 18,
   "metadata": {},
   "outputs": [],
   "source": [
    "defect_result[test_idx] = result\n",
    "defect_pred_score[test_idx] = pred_score"
   ]
  },
  {
   "cell_type": "markdown",
   "metadata": {},
   "source": [
    "## Calculating AUC and plotting ROC for defect detection of each texture class "
   ]
  },
  {
   "cell_type": "markdown",
   "metadata": {},
   "source": [
    "**Get ground truth for defect classification 1 = defect**"
   ]
  },
  {
   "cell_type": "code",
   "execution_count": 17,
   "metadata": {},
   "outputs": [],
   "source": [
    "defect_grdtruth = np.ones(len(test_input))\n",
    "for i in range(len(test_generator.filenames)):\n",
    "    if \"good\" in test_generator.filenames[i]:\n",
    "        defect_grdtruth[i] = 0;"
   ]
  },
  {
   "cell_type": "code",
   "execution_count": 159,
   "metadata": {},
   "outputs": [
    {
     "name": "stdout",
     "output_type": "stream",
     "text": [
      "AUC: 0.967\n"
     ]
    },
    {
     "data": {
      "text/plain": [
       "<matplotlib.text.Text at 0x7ff18073f320>"
      ]
     },
     "execution_count": 159,
     "metadata": {},
     "output_type": "execute_result"
    },
    {
     "data": {
      "image/png": "[encoded data removed]",
      "text/plain": [
       "<matplotlib.figure.Figure at 0x7ff1807d5668>"
      ]
     },
     "metadata": {
      "needs_background": "light"
     },
     "output_type": "display_data"
    }
   ],
   "source": [
    "auc = roc_auc_score(defect_grdtruth[test_idx], -1*defect_pred_score[test_idx])\n",
    "print('AUC: %.3f' % auc)\n",
    "fpr, tpr, _ = roc_curve(defect_grdtruth[test_idx],-1*defect_pred_score[test_idx])\n",
    "plt.plot(fpr, tpr, linestyle='--')\n",
    "plt.title(\"wood\")\n",
    "plt.xlabel('False Positive Rate')\n",
    "plt.ylabel('True Positive Rate')"
   ]
  },
  {
   "cell_type": "markdown",
   "metadata": {},
   "source": [
    "## Getting Grad-Cam for images classified as defect by novelty detection"
   ]
  },
  {
   "cell_type": "code",
   "execution_count": 39,
   "metadata": {},
   "outputs": [],
   "source": [
    "alpha, layer = get_grad_cam_weights(model, np.zeros((1, 224, 224, 3)))"
   ]
  },
  {
   "cell_type": "code",
   "execution_count": 40,
   "metadata": {},
   "outputs": [
    {
     "name": "stdout",
     "output_type": "stream",
     "text": [
      "(256, 5)\n"
     ]
    },
    {
     "data": {
      "text/plain": [
       "<matplotlib.image.AxesImage at 0x7f0a8074e5c0>"
      ]
     },
     "execution_count": 40,
     "metadata": {},
     "output_type": "execute_result"
    },
    {
     "data": {
      "image/png": "[encoded data removed]",
      "text/plain": [
       "<matplotlib.figure.Figure at 0x7f0aa42855c0>"
      ]
     },
     "metadata": {
      "needs_background": "light"
     },
     "output_type": "display_data"
    }
   ],
   "source": [
    "print(alpha.shape)\n",
    "plt.imshow(alpha)"
   ]
  },
  {
   "cell_type": "code",
   "execution_count": 207,
   "metadata": {},
   "outputs": [
    {
     "name": "stdout",
     "output_type": "stream",
     "text": [
      "conv2d_7\n"
     ]
    }
   ],
   "source": [
    "print(layer)"
   ]
  },
  {
   "cell_type": "code",
   "execution_count": 60,
   "metadata": {},
   "outputs": [],
   "source": [
    "#start_idx = 0\n",
    "#end_idx = 514\n",
    "#cur_batch_sz = end_idx - start_idx + 1\n",
    "#img_batch = read_batch(test_generator.directory, test_generator.filenames[start_idx:end_idx + 1], cur_batch_sz,\n",
    "#                           (224, 224))"
   ]
  },
  {
   "cell_type": "markdown",
   "metadata": {},
   "source": [
    "## Ignoring non-maximum classes getting grad cam of one texture class with images classified as defective"
   ]
  },
  {
   "cell_type": "code",
   "execution_count": 57,
   "metadata": {},
   "outputs": [],
   "source": [
    "pred_scores = model.predict(test_input[test_idx][defect_idx])"
   ]
  },
  {
   "cell_type": "code",
   "execution_count": 58,
   "metadata": {},
   "outputs": [],
   "source": [
    "Y = grad_cam(model, alpha,test_input[test_idx][defect_idx] , np.ones((len(test_input[test_idx][defect_idx]), len(CLASSES))), layer, pred_scores,\n",
    "             orig_sz=test_input[test_idx][defect_idx].shape[1:3], should_upsample=True)"
   ]
  },
  {
   "cell_type": "code",
   "execution_count": 59,
   "metadata": {},
   "outputs": [
    {
     "data": {
      "image/png": "[encoded data removed]",
      "text/plain": [
       "<matplotlib.figure.Figure at 0x7f0a786d8c88>"
      ]
     },
     "metadata": {},
     "output_type": "display_data"
    }
   ],
   "source": [
    "plt.figure()\n",
    "for i in range(len(CLASSES)):\n",
    "    plt.subplot(151+i)\n",
    "    plt.imshow(Y[0, :, :, i])\n",
    "    plt.title(CLASSES[i])\n",
    "    plt.xticks([])\n",
    "    plt.yticks([])"
   ]
  },
  {
   "cell_type": "code",
   "execution_count": 60,
   "metadata": {},
   "outputs": [
    {
     "data": {
      "text/plain": [
       "<matplotlib.image.AxesImage at 0x7f0a78486898>"
      ]
     },
     "execution_count": 60,
     "metadata": {},
     "output_type": "execute_result"
    },
    {
     "data": {
      "image/png": "[encoded data removed]",
      "text/plain": [
       "<matplotlib.figure.Figure at 0x7f0a786cd240>"
      ]
     },
     "metadata": {
      "needs_background": "light"
     },
     "output_type": "display_data"
    }
   ],
   "source": [
    "plt.imshow(test_input[test_idx][defect_idx][0])"
   ]
  },
  {
   "cell_type": "markdown",
   "metadata": {},
   "source": [
    "## Thresholding grad-cam activations to get pixel level defect classification"
   ]
  },
  {
   "cell_type": "code",
   "execution_count": 61,
   "metadata": {},
   "outputs": [
    {
     "name": "stdout",
     "output_type": "stream",
     "text": [
      "37\n",
      "37\n"
     ]
    }
   ],
   "source": [
    "class_idx = 4 #[carpet = 0, grid = 1, leather = 2, tile = 3, wood = 4]\n",
    "for k in range(len(Y)):\n",
    "    Y[k,:,:,class_idx] = Y[k,:,:,class_idx]/np.amax(Y[k,:,:,class_idx])\n",
    "    for i in range(224):\n",
    "        for j in range(224):\n",
    "            if(i<=200 and i>=20 and j<=200 and j>=20):\n",
    "                if Y[k,i,j,class_idx] > 0.95 or Y[k,i,j,class_idx] <0.05:\n",
    "                    Y[k,i,j,class_idx]=1\n",
    "                else:\n",
    "                    Y[k,i,j,class_idx]=0\n",
    "            else:\n",
    "                Y[k,i,j,class_idx]=0\n",
    "\n",
    "print(len(Y))\n",
    "print(len(test_input[test_idx][defect_idx]))"
   ]
  },
  {
   "cell_type": "code",
   "execution_count": 62,
   "metadata": {},
   "outputs": [],
   "source": [
    "defect_map = np.zeros([len(test_input[test_idx]),224,224])\n",
    "defect_map[defect_idx] = Y[:,:,:, class_idx]"
   ]
  },
  {
   "cell_type": "code",
   "execution_count": 71,
   "metadata": {},
   "outputs": [
    {
     "data": {
      "text/plain": [
       "<matplotlib.image.AxesImage at 0x7f0a801cf358>"
      ]
     },
     "execution_count": 71,
     "metadata": {},
     "output_type": "execute_result"
    },
    {
     "data": {
      "image/png": "[encoded data removed]",
      "text/plain": [
       "<matplotlib.figure.Figure at 0x7f0a7857a748>"
      ]
     },
     "metadata": {
      "needs_background": "light"
     },
     "output_type": "display_data"
    }
   ],
   "source": [
    "plt.imshow(defect_map[0])"
   ]
  },
  {
   "cell_type": "markdown",
   "metadata": {},
   "source": [
    "## Getting ground truth defect segmentation and create blank images for good texture images"
   ]
  },
  {
   "cell_type": "code",
   "execution_count": 107,
   "metadata": {},
   "outputs": [
    {
     "name": "stdout",
     "output_type": "stream",
     "text": [
      "Found 382 images belonging to 5 classes.\n",
      "{'leather': 92, 'wood': 60, 'tile': 84, 'carpet': 89, 'grid': 57}\n"
     ]
    }
   ],
   "source": [
    "DATASET_ROOT = 'data/ground_truth'\n",
    "GT_ROOT = 'data/ground_truth'\n",
    "CLASSES = ['carpet', 'grid', 'leather', 'tile', 'wood']\n",
    "##CLASSES = 'leather'\n",
    "gt_datagen = ImageDataGenerator(rescale=1./255)\n",
    "gt_generator = gt_datagen.flow_from_directory(DATASET_ROOT,\n",
    "                                                    class_mode='categorical',\n",
    "                                                    interpolation='bilinear',\n",
    "                                                    target_size=(224, 224),\n",
    "                                                    batch_size=382,\n",
    "                                                    shuffle=False,\n",
    "                                                    classes=CLASSES)\n",
    "unique, counts = np.unique(gt_generator.labels, return_counts=True)\n",
    "print(dict(zip(CLASSES, counts)))"
   ]
  },
  {
   "cell_type": "code",
   "execution_count": 108,
   "metadata": {},
   "outputs": [
    {
     "name": "stdout",
     "output_type": "stream",
     "text": [
      "(382, 224, 224, 3)\n"
     ]
    }
   ],
   "source": [
    "grd_truth,y = gt_generator.next()\n",
    "print(grd_truth.shape)"
   ]
  },
  {
   "cell_type": "code",
   "execution_count": 109,
   "metadata": {},
   "outputs": [],
   "source": [
    "gt_carpet_idx = np.full(len(gt_generator.filenames),False)\n",
    "gt_grid_idx = np.full(len(gt_generator.filenames),False)\n",
    "gt_leather_idx = np.full(len(gt_generator.filenames),False)\n",
    "gt_tile_idx = np.full(len(gt_generator.filenames),False)\n",
    "gt_wood_idx = np.full(len(gt_generator.filenames),False)       \n",
    "for i in range(len(gt_generator.filenames)):\n",
    "    for j in range(len(gt_generator.filenames[i])):\n",
    "        if gt_generator.filenames[i][j]== \"/\":\n",
    "            break\n",
    "    correct_class = gt_generator.filenames[i][0:j]\n",
    "    if correct_class == \"carpet\":\n",
    "        gt_carpet_idx[i] = True\n",
    "    if correct_class == \"grid\":\n",
    "        gt_grid_idx[i] = True\n",
    "    if correct_class == \"leather\":\n",
    "        gt_leather_idx[i] = True\n",
    "    if correct_class == \"tile\":\n",
    "        gt_tile_idx[i] = True\n",
    "    if correct_class == \"wood\":\n",
    "        gt_wood_idx[i] = True"
   ]
  },
  {
   "cell_type": "code",
   "execution_count": 110,
   "metadata": {},
   "outputs": [
    {
     "name": "stdout",
     "output_type": "stream",
     "text": [
      "89\n",
      "57\n",
      "92\n",
      "84\n",
      "60\n"
     ]
    }
   ],
   "source": [
    "print(len(grd_truth[gt_carpet_idx]))\n",
    "print(len(grd_truth[gt_grid_idx]))\n",
    "print(len(grd_truth[gt_leather_idx]))\n",
    "print(len(grd_truth[gt_tile_idx]))\n",
    "print(len(grd_truth[gt_wood_idx]))"
   ]
  },
  {
   "cell_type": "markdown",
   "metadata": {},
   "source": [
    "## Creating blank images for good texture images"
   ]
  },
  {
   "cell_type": "code",
   "execution_count": 152,
   "metadata": {},
   "outputs": [],
   "source": [
    "gt_images = np.zeros([len(test_input[test_idx]),224,224])\n",
    "k = 0\n",
    "for i in range(len(np.array(test_generator.filenames)[test_idx])):\n",
    "    if \"good\" not in np.array(test_generator.filenames)[test_idx][i]:\n",
    "        gt_images[i,:,:] = grd_truth[gt_wood_idx][k,:,:,0]#########edit class name\n",
    "        k = k+1"
   ]
  },
  {
   "cell_type": "code",
   "execution_count": 126,
   "metadata": {},
   "outputs": [
    {
     "data": {
      "text/plain": [
       "<matplotlib.image.AxesImage at 0x7fdac5f24828>"
      ]
     },
     "execution_count": 126,
     "metadata": {},
     "output_type": "execute_result"
    },
    {
     "data": {
      "image/png": "[encoded data removed]",
      "text/plain": [
       "<matplotlib.figure.Figure at 0x7fdac5f514e0>"
      ]
     },
     "metadata": {
      "needs_background": "light"
     },
     "output_type": "display_data"
    }
   ],
   "source": [
    "plt.imshow(gt_images[0])"
   ]
  },
  {
   "cell_type": "markdown",
   "metadata": {},
   "source": [
    "## Caclulate I-o-U for one class "
   ]
  },
  {
   "cell_type": "code",
   "execution_count": 153,
   "metadata": {},
   "outputs": [
    {
     "name": "stdout",
     "output_type": "stream",
     "text": [
      "0.11027669813066815\n"
     ]
    }
   ],
   "source": [
    "intersection = np.logical_and(gt_images, defect_map)\n",
    "union = np.logical_or(gt_images, defect_map)\n",
    "iou_score = np.sum(intersection) / np.sum(union)\n",
    "print(iou_score)"
   ]
  },
  {
   "cell_type": "code",
   "execution_count": null,
   "metadata": {},
   "outputs": [],
   "source": [
    "leather = 0.03909401,carpet = 0.07697287, grid=0.00361079, tile = 0.07505835, wood = 0.1102766981"
   ]
  },
  {
   "cell_type": "markdown",
   "metadata": {},
   "source": [
    "## ---------------------Run till this part for each class by editing the class name in train_idx and test_idx -----------------##"
   ]
  },
  {
   "cell_type": "markdown",
   "metadata": {},
   "source": [
    "## Getting overall defect test accuracy"
   ]
  },
  {
   "cell_type": "markdown",
   "metadata": {},
   "source": [
    "**Get defect predictions for all classes and then run this**"
   ]
  },
  {
   "cell_type": "code",
   "execution_count": 160,
   "metadata": {},
   "outputs": [
    {
     "name": "stdout",
     "output_type": "stream",
     "text": [
      "67.18446601941747\n"
     ]
    }
   ],
   "source": [
    "correct = 0;\n",
    "for i in range(len(defect_grdtruth)):\n",
    "    if defect_grdtruth[i] == defect_result[i]:\n",
    "        correct = correct + 1\n",
    "accuracy = correct/len(defect_grdtruth)\n",
    "print(accuracy*100)"
   ]
  },
  {
   "cell_type": "markdown",
   "metadata": {},
   "source": [
    "## Dimensionality reduction to visualize learned features in train and test data"
   ]
  },
  {
   "cell_type": "code",
   "execution_count": 57,
   "metadata": {},
   "outputs": [],
   "source": [
    "train_idx = train_carpet_idx ###choose class here \n",
    "test_idx = test_carpet_idx ###choose class here "
   ]
  },
  {
   "cell_type": "code",
   "execution_count": 58,
   "metadata": {},
   "outputs": [],
   "source": [
    "layer_activation_model = models.Model(inputs=model.input, outputs=model.layers[7].output)##Choosing topmost layer here\n",
    "layer_output = layer_activation_model.predict(np.append(train_input[train_idx],test_input[test_idx],axis=0))"
   ]
  },
  {
   "cell_type": "code",
   "execution_count": 59,
   "metadata": {},
   "outputs": [
    {
     "name": "stdout",
     "output_type": "stream",
     "text": [
      "(397, 802816)\n"
     ]
    }
   ],
   "source": [
    "layer_out_vec = np.reshape(layer_output,(len(layer_output),56*56*256))\n",
    "print(layer_out_vec.shape)"
   ]
  },
  {
   "cell_type": "code",
   "execution_count": 60,
   "metadata": {},
   "outputs": [
    {
     "data": {
      "text/plain": [
       "(397, 50)"
      ]
     },
     "execution_count": 60,
     "metadata": {},
     "output_type": "execute_result"
    }
   ],
   "source": [
    "#pca = PCA(n_components=50, random_state=145)\n",
    "\n",
    "pca = KernelPCA(n_components=50, random_state=145, kernel='rbf')\n",
    "pca_features = pca.fit_transform(layer_out_vec)\n",
    "pca_features.shape"
   ]
  },
  {
   "cell_type": "code",
   "execution_count": 63,
   "metadata": {},
   "outputs": [
    {
     "data": {
      "text/plain": [
       "(397, 2)"
      ]
     },
     "execution_count": 63,
     "metadata": {},
     "output_type": "execute_result"
    }
   ],
   "source": [
    "final_proj = TSNE(n_components=2, random_state=123).fit_transform(pca_features)\n",
    "final_proj.shape\n",
    "#train_proj = TSNE(n_components=2, random_state=123).fit_transform(tr_layer_out_vec)\n",
    "#print(train_proj.shape)\n",
    "#test_proj = TSNE(n_components=2, random_state=123).fit_transform(te_layer_out_vec)\n",
    "#print(test_proj.shape)"
   ]
  },
  {
   "cell_type": "code",
   "execution_count": 64,
   "metadata": {},
   "outputs": [],
   "source": [
    "train_proj = final_proj[0:len(train_input[train_idx]),:]\n",
    "test_proj = final_proj[len(train_input[train_idx]):(len(test_input[test_idx])+len(train_input[train_idx])),:]\n",
    "#print(train_proj.shape)\n",
    "#print(test_proj.shape)"
   ]
  },
  {
   "cell_type": "code",
   "execution_count": 65,
   "metadata": {},
   "outputs": [
    {
     "data": {
      "image/png": "[encoded data removed]",
      "text/plain": [
       "<matplotlib.figure.Figure at 0x7faac5fd0160>"
      ]
     },
     "metadata": {
      "needs_background": "light"
     },
     "output_type": "display_data"
    }
   ],
   "source": [
    "fig, ax = plt.subplots()\n",
    "ax.plot(train_proj[:,0], train_proj[:,1], 'k*', label='Training features',color = 'red')\n",
    "ax.plot(test_proj[:,0], test_proj[:,1], 'k*', label='Test features',color = 'blue')\n",
    "legend = ax.legend(loc='upper right', shadow=True, fontsize='small')\n",
    "plt.show()\n"
   ]
  },
  {
   "cell_type": "markdown",
   "metadata": {},
   "source": [
    "## Run this visualize the full test dataset"
   ]
  },
  {
   "cell_type": "code",
   "execution_count": 13,
   "metadata": {},
   "outputs": [],
   "source": [
    "test_idx = np.full(len(test_generator.filenames),True)"
   ]
  },
  {
   "cell_type": "code",
   "execution_count": 15,
   "metadata": {},
   "outputs": [],
   "source": [
    "layer_activation_model = models.Model(inputs=model.input, outputs=model.layers[7].output)##Choosing topmost layer here\n",
    "layer_output = layer_activation_model.predict(test_input[test_idx])####edittttt"
   ]
  },
  {
   "cell_type": "code",
   "execution_count": null,
   "metadata": {},
   "outputs": [],
   "source": [
    "layer_out_vec = np.reshape(layer_output,(len(layer_output),56*56*256))\n",
    "print(layer_out_vec.shape)"
   ]
  },
  {
   "cell_type": "code",
   "execution_count": 17,
   "metadata": {},
   "outputs": [
    {
     "data": {
      "text/plain": [
       "(515, 50)"
      ]
     },
     "execution_count": 17,
     "metadata": {},
     "output_type": "execute_result"
    }
   ],
   "source": [
    "#pca = PCA(n_components=50, random_state=145)\n",
    "\n",
    "pca = KernelPCA(n_components=50, random_state=145, kernel='rbf')\n",
    "pca_features = pca.fit_transform(layer_out_vec)\n",
    "pca_features.shape"
   ]
  },
  {
   "cell_type": "code",
   "execution_count": 18,
   "metadata": {},
   "outputs": [
    {
     "data": {
      "text/plain": [
       "(515, 2)"
      ]
     },
     "execution_count": 18,
     "metadata": {},
     "output_type": "execute_result"
    }
   ],
   "source": [
    "final_proj = TSNE(n_components=2, random_state=123).fit_transform(pca_features)\n",
    "final_proj.shape\n",
    "#train_proj = TSNE(n_components=2, random_state=123).fit_transform(tr_layer_out_vec)\n",
    "#print(train_proj.shape)\n",
    "#test_proj = TSNE(n_components=2, random_state=123).fit_transform(te_layer_out_vec)\n",
    "#print(test_proj.shape)"
   ]
  },
  {
   "cell_type": "code",
   "execution_count": 21,
   "metadata": {},
   "outputs": [],
   "source": [
    "test_carpet_proj = final_proj[test_carpet_idx]\n",
    "test_grid_proj = final_proj[test_grid_idx]\n",
    "test_leather_proj = final_proj[test_leather_idx]\n",
    "test_tile_proj = final_proj[test_tile_idx]\n",
    "test_wood_proj = final_proj[test_wood_idx]\n",
    "\n",
    "#print(train_proj.shape)\n",
    "#print(test_proj.shape)##editttttt"
   ]
  },
  {
   "cell_type": "code",
   "execution_count": 23,
   "metadata": {},
   "outputs": [
    {
     "data": {
      "image/png": "[encoded data removed]",
      "text/plain": [
       "<matplotlib.figure.Figure at 0x7fab0c68f048>"
      ]
     },
     "metadata": {
      "needs_background": "light"
     },
     "output_type": "display_data"
    }
   ],
   "source": [
    "fig, ax = plt.subplots()\n",
    "ax.plot(test_carpet_proj[:,0], test_carpet_proj[:,1], 'k*', label='Carpet',color = 'red')\n",
    "ax.plot(test_grid_proj[:,0], test_grid_proj[:,1], 'k*', label='Grid',color = 'blue')\n",
    "ax.plot(test_leather_proj[:,0], test_leather_proj[:,1], 'k*', label='Leather',color = 'black')\n",
    "ax.plot(test_tile_proj[:,0], test_tile_proj[:,1], 'k*', label='Tile',color = 'green')\n",
    "ax.plot(test_wood_proj[:,0], test_wood_proj[:,1], 'k*', label='Wood',color = 'cyan')\n",
    "\n",
    "\n",
    "legend = ax.legend(loc='upper right', shadow=True, fontsize='small')\n",
    "plt.show()"
   ]
  },
  {
   "cell_type": "code",
   "execution_count": null,
   "metadata": {},
   "outputs": [],
   "source": []
  }
 ],
 "metadata": {
  "kernelspec": {
   "display_name": "Python 3",
   "language": "python",
   "name": "python3"
  },
  "language_info": {
   "codemirror_mode": {
    "name": "ipython",
    "version": 3
   },
   "file_extension": ".py",
   "mimetype": "text/x-python",
   "name": "python",
   "nbconvert_exporter": "python",
   "pygments_lexer": "ipython3",
   "version": "3.5.2"
  }
 },
 "nbformat": 4,
 "nbformat_minor": 2
}
